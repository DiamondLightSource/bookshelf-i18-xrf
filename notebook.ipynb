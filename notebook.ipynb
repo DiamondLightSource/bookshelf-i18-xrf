{
 "cells": [
  {
   "cell_type": "code",
   "execution_count": null,
   "id": "subtle-director",
   "metadata": {
    "execution": {
     "iopub.execute_input": "2022-10-03T15:10:24.360061Z",
     "iopub.status.busy": "2022-10-03T15:10:24.359186Z",
     "iopub.status.idle": "2022-10-03T15:10:25.592850Z",
     "shell.execute_reply": "2022-10-03T15:10:25.591878Z"
    },
    "papermill": {},
    "tags": []
   },
   "outputs": [],
   "source": [
    "from pathlib import Path\n",
    "import h5py\n",
    "import math\n",
    "import xraylib\n",
    "import numpy as np\n",
    "import json\n",
    "import sys\n",
    "import hdf5plugin\n",
    "from swmr_tools import DataSource, utils, KeyFollower\n",
    "import blosc\n",
    "\n",
    "from time import perf_counter,sleep"
   ]
  },
  {
   "cell_type": "code",
   "execution_count": null,
   "id": "84312deb",
   "metadata": {
    "execution": {
     "iopub.execute_input": "2022-10-03T15:10:24.349818Z",
     "iopub.status.busy": "2022-10-03T15:10:24.341051Z",
     "iopub.status.idle": "2022-10-03T15:10:24.354670Z",
     "shell.execute_reply": "2022-10-03T15:10:24.353768Z"
    },
    "tags": [
     "parameters"
    ]
   },
   "outputs": [],
   "source": [
    "element_list: str\n",
    "window_width: int\n",
    "inpath: str\n",
    "outpath: str"
   ]
  },
  {
   "cell_type": "code",
   "execution_count": null,
   "id": "specialized-economy",
   "metadata": {
    "execution": {
     "iopub.execute_input": "2022-10-03T15:10:25.598631Z",
     "iopub.status.busy": "2022-10-03T15:10:25.597662Z",
     "iopub.status.idle": "2022-10-03T15:10:25.640211Z",
     "shell.execute_reply": "2022-10-03T15:10:25.639421Z"
    },
    "papermill": {},
    "tags": []
   },
   "outputs": [],
   "source": [
    "sys.path.append(\"/dls_sw/i18/software/daqmessenger/daq-messenger\")\n",
    "daq = None\n",
    "try:\n",
    "    from daqmessenger import DaqMessenger\n",
    "    daq = DaqMessenger(\"i18-control\")\n",
    "    daq.connect()\n",
    "except:\n",
    "    print(\"no messenger\")"
   ]
  },
  {
   "cell_type": "code",
   "execution_count": null,
   "id": "speaking-destiny",
   "metadata": {
    "execution": {
     "iopub.execute_input": "2022-10-03T15:10:25.646092Z",
     "iopub.status.busy": "2022-10-03T15:10:25.644043Z",
     "iopub.status.idle": "2022-10-03T15:10:25.649488Z",
     "shell.execute_reply": "2022-10-03T15:10:25.648600Z"
    },
    "papermill": {},
    "tags": []
   },
   "outputs": [],
   "source": [
    "requested = element_list.split(' ')\n",
    "width = window_width\n",
    "inpath = Path(\"/inputs/\").joinpath(inpath)\n",
    "outpath = Path(\"/outputs/\").joinpath(outpath)"
   ]
  },
  {
   "cell_type": "code",
   "execution_count": null,
   "id": "bacterial-grace",
   "metadata": {
    "execution": {
     "iopub.execute_input": "2022-10-03T15:10:25.659855Z",
     "iopub.status.busy": "2022-10-03T15:10:25.658948Z",
     "iopub.status.idle": "2022-10-03T15:10:25.665302Z",
     "shell.execute_reply": "2022-10-03T15:10:25.664531Z"
    },
    "papermill": {},
    "tags": []
   },
   "outputs": [],
   "source": [
    "#Kev per channel\n",
    "gain = 0.01\n",
    "zero = 0\n",
    "\n",
    "lines = {\"Ka\": (xraylib.KL3_LINE, \"Ka\"),\n",
    "                     \"Kb\": (xraylib.KM3_LINE, \"Kb\"),\n",
    "                     \"La\": (xraylib.L3M5_LINE, \"La\"),\n",
    "                     \"Lb\": (xraylib.L2M4_LINE, \"Lb\"),\n",
    "                     \"M\": (xraylib.M5N7_LINE, \"M\")}\n",
    "\n",
    "line_out = []\n",
    "for l in requested:\n",
    "    el = l.split(\"-\")\n",
    "    z = xraylib.SymbolToAtomicNumber(el[0]);\n",
    "    if el[1] in lines:\n",
    "        symb = lines[el[1]]\n",
    "        e = xraylib.LineEnergy(z, symb[0])\n",
    "        channel = math.floor((e-zero)/gain)\n",
    "        start = math.floor(channel - width/2)\n",
    "        end = start + width\n",
    "        line_out.append((el[0]+\"-\"+symb[1], start, end))\n",
    "\n",
    "print(\"Windows used {}\".format(line_out))"
   ]
  },
  {
   "cell_type": "code",
   "execution_count": null,
   "id": "spare-maldives",
   "metadata": {
    "execution": {
     "iopub.execute_input": "2022-10-03T15:10:25.858044Z",
     "iopub.status.busy": "2022-10-03T15:10:25.680149Z",
     "iopub.status.idle": "2022-10-03T15:10:57.249027Z",
     "shell.execute_reply": "2022-10-03T15:10:57.248160Z"
    },
    "papermill": {},
    "tags": []
   },
   "outputs": [],
   "source": [
    "key_name = \"/entry/diamond_scan/keys\"\n",
    "data = \"/entry/Xspress3A/data\"\n",
    "finished = \"/entry/diamond_scan/scan_finished\"\n",
    "\n",
    "utils.check_file_readable(inpath, [data])\n",
    "start = perf_counter()\n",
    "\n",
    "#lets give h5 some more cache\n",
    "cache_space = 1024*1024*1024\n",
    "\n",
    "with h5py.File(inpath, 'r', libver='latest', swmr=True) as fh, h5py.File(outpath, 'w', libver='latest', swmr=True, rdcc_nbytes=cache_space) as ofh:\n",
    "\n",
    "    kf = KeyFollower(fh, [key_name], timeout = 60, finished_dataset = finished)\n",
    "    kf.check_datasets()\n",
    "\n",
    "    e = utils.create_nxentry(ofh,\"processed\")\n",
    "    nxdm =  utils.create_nxdata(e,\"mca\",default=False)\n",
    "    nxdm.attrs[\"signal\"] = \"data\"\n",
    "\n",
    "    nxdm.create_dataset(\"energy\",data=np.arange(4096)*gain)\n",
    "    nxdm.attrs[\"energy_indices\"] = 2\n",
    "\n",
    "    utils.copy_nexus_axes(fh[\"/entry/Xspress3A\"],nxdm,kf.scan_rank,frame_axes=[\"energy\"])\n",
    "\n",
    "    nxdata = {}\n",
    "\n",
    "    for l in line_out:\n",
    "        nxdw =  utils.create_nxdata(e,l[0])\n",
    "        utils.copy_nexus_axes(fh[\"/entry/Xspress3A\"],nxdw,kf.scan_rank)\n",
    "        nxdw.attrs[\"signal\"] = \"data\"\n",
    "        nxdata[l[0]] = nxdw\n",
    "\n",
    "    mca_ds = None\n",
    "    window = {}\n",
    "    winnp = {}\n",
    "\n",
    "    ds = fh[data]\n",
    "    maxs = ds.maxshape\n",
    "    imshape = (maxs[0], maxs[1])\n",
    "\n",
    "    flush_timer = perf_counter()\n",
    "    for k in kf:\n",
    "        if not kf._prelim_finished_check:\n",
    "            sleep(0.001)\n",
    "        shape = ds.shape\n",
    "        index = k\n",
    "\n",
    "        try:\n",
    "             # might fail if dataset is cached\n",
    "             pos = utils.get_position(index, shape, kf.scan_rank)\n",
    "        except ValueError:\n",
    "             # refresh dataset and try again\n",
    "             if hasattr(ds, \"refresh\"):\n",
    "                 ds.refresh()\n",
    "\n",
    "             shape = ds.shape\n",
    "             pos = utils.get_position(index, shape, kf.scan_rank)\n",
    "\n",
    "        rank = len(shape)\n",
    "        slices = [slice(0, None, 1)] * rank\n",
    "\n",
    "        for i in range(len(pos)):\n",
    "            slices[i] = slice(pos[i], pos[i] + 1)\n",
    "        slicemd = tuple(slices[: kf.scan_rank])\n",
    "\n",
    "        chunk = [pos[0],pos[1],0,0]\n",
    "        try:            out = ds.id.read_direct_chunk(chunk)\n",
    "        except:\n",
    "             sleep(1)\n",
    "             if hasattr(ds, \"refresh\"):\n",
    "                 ds.refresh()\n",
    "             out = ds.id.read_direct_chunk(chunk)\n",
    "\n",
    "        shape = [1, 1,8, 4096]\n",
    "        decom = blosc.decompress(out[1])\n",
    "        a = np.frombuffer(decom,dtype=np.float64,count=-1)\n",
    "        frame = a.reshape(shape)\n",
    "        frame = frame.squeeze()\n",
    "        mca = frame.sum(axis=0)\n",
    "        \n",
    "        if mca_ds is None:\n",
    "            mca_ds = utils.create_dataset(mca,kf.maxshape, nxdm, \"data\", chunks=(1,1,4096), compression=\"lzf\")\n",
    "            for l in line_out:\n",
    "                w = mca[l[1]:l[2]].sum()\n",
    "                winnpd = np.zeros(imshape)\n",
    "                winnpd[pos] = w\n",
    "                winnp[l[0]] = winnpd\n",
    "                window_ds = nxdata[l[0]].create_dataset(\"data\", data=winnpd, chunks = imshape)\n",
    "                window[l[0]] = window_ds\n",
    "\n",
    "            ofh.swmr_mode = True\n",
    "            if daq:\n",
    "                daq.send_start(outpath)\n",
    "        else:\n",
    "            utils.append_data(mca,slicemd,mca_ds)\n",
    "            for l in line_out:\n",
    "                w = mca[l[1]:l[2]].sum()\n",
    "                utils.append_data(w,slicemd,winnp[l[0]])\n",
    "\n",
    "        now = perf_counter()\n",
    "        if (now-flush_timer) > 2:\n",
    "            mca_ds.flush()\n",
    "            for l in line_out:\n",
    "                window[l[0]][...] = winnp[l[0]]\n",
    "                window[l[0]].flush()\n",
    "                flush_timer = now\n",
    "            if daq:\n",
    "                daq.send_update(outpath)\n",
    "\n",
    "    for l in line_out:\n",
    "        window[l[0]][...] = winnp[l[0]]\n",
    "        window[l[0]].flush()\n",
    "\n",
    "if daq:\n",
    "    daq.send_finished(outpath)\n",
    "\n",
    "print(f\"Completed in {(perf_counter()-start):.1f} seconds\")"
   ]
  }
 ],
 "metadata": {
  "kernelspec": {
   "display_name": "Python 3.10.8 64-bit",
   "language": "python",
   "name": "python3"
  },
  "language_info": {
   "codemirror_mode": {
    "name": "ipython",
    "version": 3
   },
   "file_extension": ".py",
   "mimetype": "text/x-python",
   "name": "python",
   "nbconvert_exporter": "python",
   "pygments_lexer": "ipython3",
   "version": "3.10.8"
  },
  "papermill": {
   "default_parameters": {},
   "environment_variables": {},
   "input_path": "/dls/i18/data/2022/cm31141-4/processed/notebooks/i18-192090_xrf.ipynb",
   "output_path": "/dls/i18/data/2022/cm31141-4/processed/notebooks/i18-192090_xrf.ipynb",
   "parameters": {
    "element_list": "Fe-Ka Zn-Ka",
    "inpath": "/dls/i18/data/2022/cm31141-4//i18-192090.nxs",
    "outpath": "/dls/i18/data/2022/cm31141-4/processed/i18-192090_xrf.nxs",
    "window_width": 40
   },
   "version": "2.3.4"
  },
  "vscode": {
   "interpreter": {
    "hash": "949777d72b0d2535278d3dc13498b2535136f6dfe0678499012e853ee9abcab1"
   }
  }
 },
 "nbformat": 4,
 "nbformat_minor": 5
}
